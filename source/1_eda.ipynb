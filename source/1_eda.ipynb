{
 "cells": [
  {
   "cell_type": "markdown",
   "metadata": {
    "id": "RRObaSFfW651"
   },
   "source": [
    "# Exploring the Datasets\n",
    "\n",
    "In this notebook, we're going to have a look at the data and see what insights we can obtain."
   ]
  },
  {
   "cell_type": "code",
   "execution_count": 1,
   "metadata": {
    "executionInfo": {
     "elapsed": 744,
     "status": "ok",
     "timestamp": 1617820710583,
     "user": {
      "displayName": "Luiz Manke",
      "photoUrl": "https://lh3.googleusercontent.com/a-/AOh14Gi63RJ0atQDlt0M0pcVfF9vm6ioUk7xQmcrN9Ie2ks=s64",
      "userId": "12468682967220562450"
     },
     "user_tz": 180
    },
    "id": "fStpn8dFUSqJ"
   },
   "outputs": [],
   "source": [
    "# Import modules\n",
    "import matplotlib.pyplot as plt\n",
    "import pandas as pd\n",
    "import seaborn as sns"
   ]
  },
  {
   "cell_type": "code",
   "execution_count": 2,
   "metadata": {
    "executionInfo": {
     "elapsed": 863,
     "status": "ok",
     "timestamp": 1617820712324,
     "user": {
      "displayName": "Luiz Manke",
      "photoUrl": "https://lh3.googleusercontent.com/a-/AOh14Gi63RJ0atQDlt0M0pcVfF9vm6ioUk7xQmcrN9Ie2ks=s64",
      "userId": "12468682967220562450"
     },
     "user_tz": 180
    },
    "id": "mVPd9VDKUda6"
   },
   "outputs": [],
   "source": [
    "# Global variables\n",
    "DATASETS_PATH = '../datasets'"
   ]
  },
  {
   "cell_type": "markdown",
   "metadata": {
    "id": "dp2EN-_mW7_t"
   },
   "source": [
    "## 1. Population\n",
    "\n",
    "The first dataset is a list of people and its characteristics."
   ]
  },
  {
   "cell_type": "code",
   "execution_count": 3,
   "metadata": {
    "colab": {
     "base_uri": "https://localhost:8080/",
     "height": 375
    },
    "executionInfo": {
     "elapsed": 23136,
     "status": "error",
     "timestamp": 1617820787091,
     "user": {
      "displayName": "Luiz Manke",
      "photoUrl": "https://lh3.googleusercontent.com/a-/AOh14Gi63RJ0atQDlt0M0pcVfF9vm6ioUk7xQmcrN9Ie2ks=s64",
      "userId": "12468682967220562450"
     },
     "user_tz": 180
    },
    "id": "PcBnlilJUfZ2",
    "outputId": "522eff5a-a8fd-4ace-81a4-e8e56e5318ce"
   },
   "outputs": [
    {
     "data": {
      "text/html": [
       "<div>\n",
       "<style scoped>\n",
       "    .dataframe tbody tr th:only-of-type {\n",
       "        vertical-align: middle;\n",
       "    }\n",
       "\n",
       "    .dataframe tbody tr th {\n",
       "        vertical-align: top;\n",
       "    }\n",
       "\n",
       "    .dataframe thead th {\n",
       "        text-align: right;\n",
       "    }\n",
       "</style>\n",
       "<table border=\"1\" class=\"dataframe\">\n",
       "  <thead>\n",
       "    <tr style=\"text-align: right;\">\n",
       "      <th></th>\n",
       "      <th>name</th>\n",
       "      <th>age</th>\n",
       "      <th>marital_status</th>\n",
       "      <th>n_children</th>\n",
       "      <th>study</th>\n",
       "      <th>work</th>\n",
       "      <th>play_sports</th>\n",
       "      <th>transportation</th>\n",
       "      <th>body_mass_index</th>\n",
       "    </tr>\n",
       "  </thead>\n",
       "  <tbody>\n",
       "    <tr>\n",
       "      <th>0</th>\n",
       "      <td>1</td>\n",
       "      <td>44.0</td>\n",
       "      <td>divorced</td>\n",
       "      <td>1.0</td>\n",
       "      <td>1.0</td>\n",
       "      <td>0.0</td>\n",
       "      <td>1.0</td>\n",
       "      <td>public</td>\n",
       "      <td>2.220096e+14</td>\n",
       "    </tr>\n",
       "    <tr>\n",
       "      <th>1</th>\n",
       "      <td>2</td>\n",
       "      <td>24.0</td>\n",
       "      <td>married</td>\n",
       "      <td>0.0</td>\n",
       "      <td>0.0</td>\n",
       "      <td>0.0</td>\n",
       "      <td>1.0</td>\n",
       "      <td>public</td>\n",
       "      <td>2.537872e+14</td>\n",
       "    </tr>\n",
       "    <tr>\n",
       "      <th>2</th>\n",
       "      <td>3</td>\n",
       "      <td>35.0</td>\n",
       "      <td>single</td>\n",
       "      <td>1.0</td>\n",
       "      <td>0.0</td>\n",
       "      <td>0.0</td>\n",
       "      <td>1.0</td>\n",
       "      <td>private</td>\n",
       "      <td>1.995239e+14</td>\n",
       "    </tr>\n",
       "    <tr>\n",
       "      <th>3</th>\n",
       "      <td>4</td>\n",
       "      <td>50.0</td>\n",
       "      <td>married</td>\n",
       "      <td>1.0</td>\n",
       "      <td>1.0</td>\n",
       "      <td>1.0</td>\n",
       "      <td>0.0</td>\n",
       "      <td>public</td>\n",
       "      <td>2.673205e+14</td>\n",
       "    </tr>\n",
       "    <tr>\n",
       "      <th>4</th>\n",
       "      <td>5</td>\n",
       "      <td>30.0</td>\n",
       "      <td>single</td>\n",
       "      <td>2.0</td>\n",
       "      <td>1.0</td>\n",
       "      <td>0.0</td>\n",
       "      <td>1.0</td>\n",
       "      <td>public</td>\n",
       "      <td>1.529567e+14</td>\n",
       "    </tr>\n",
       "  </tbody>\n",
       "</table>\n",
       "</div>"
      ],
      "text/plain": [
       "   name   age marital_status  n_children  study  work  play_sports  \\\n",
       "0     1  44.0       divorced         1.0    1.0   0.0          1.0   \n",
       "1     2  24.0        married         0.0    0.0   0.0          1.0   \n",
       "2     3  35.0         single         1.0    0.0   0.0          1.0   \n",
       "3     4  50.0        married         1.0    1.0   1.0          0.0   \n",
       "4     5  30.0         single         2.0    1.0   0.0          1.0   \n",
       "\n",
       "  transportation  body_mass_index  \n",
       "0         public     2.220096e+14  \n",
       "1         public     2.537872e+14  \n",
       "2        private     1.995239e+14  \n",
       "3         public     2.673205e+14  \n",
       "4         public     1.529567e+14  "
      ]
     },
     "execution_count": 3,
     "metadata": {},
     "output_type": "execute_result"
    }
   ],
   "source": [
    "# Load the dataset\n",
    "population = pd.read_excel(f'{DATASETS_PATH}/original/individuos_espec.xlsx')\n",
    "\n",
    "# Translate columns to english\n",
    "population = population.rename(columns={\n",
    "    'name': 'name',\n",
    "    'idade': 'age',\n",
    "    'estado_civil': 'marital_status',\n",
    "    'qt_filhos': 'n_children',\n",
    "    'estuda': 'study',\n",
    "    'trabalha': 'work',\n",
    "    'pratica_esportes': 'play_sports',\n",
    "    'transporte_mais_utilizado': 'transportation',\n",
    "    'IMC': 'body_mass_index'\n",
    "})\n",
    "\n",
    "# Translate values to english\n",
    "population = population.replace({\n",
    "    'divorciado': 'divorced',\n",
    "    'casado': 'married',\n",
    "    'solteiro': 'single',\n",
    "    'viuvo': 'widow',\n",
    "    'publico': 'public',\n",
    "    'particular': 'private',\n",
    "    'taxi': 'taxi',\n",
    "})\n",
    "\n",
    "population.head()"
   ]
  },
  {
   "cell_type": "code",
   "execution_count": 4,
   "metadata": {
    "executionInfo": {
     "elapsed": 7522,
     "status": "ok",
     "timestamp": 1617817376458,
     "user": {
      "displayName": "Luiz Manke",
      "photoUrl": "https://lh3.googleusercontent.com/a-/AOh14Gi63RJ0atQDlt0M0pcVfF9vm6ioUk7xQmcrN9Ie2ks=s64",
      "userId": "12468682967220562450"
     },
     "user_tz": 180
    },
    "id": "eM2ZIoiVYmVH"
   },
   "outputs": [],
   "source": [
    "# Save new dataset\n",
    "population.to_csv(f'{DATASETS_PATH}/processed/individuos_espec_eda.csv', index=False)"
   ]
  },
  {
   "cell_type": "code",
   "execution_count": 5,
   "metadata": {
    "colab": {
     "base_uri": "https://localhost:8080/"
    },
    "executionInfo": {
     "elapsed": 581,
     "status": "ok",
     "timestamp": 1617815697513,
     "user": {
      "displayName": "Luiz Manke",
      "photoUrl": "https://lh3.googleusercontent.com/a-/AOh14Gi63RJ0atQDlt0M0pcVfF9vm6ioUk7xQmcrN9Ie2ks=s64",
      "userId": "12468682967220562450"
     },
     "user_tz": 180
    },
    "id": "-lPJHFinUilN",
    "outputId": "ce4489f5-c074-4ecb-a793-b0bddb803a2d"
   },
   "outputs": [
    {
     "name": "stdout",
     "output_type": "stream",
     "text": [
      "dataset shape: (1000000, 9)\n"
     ]
    }
   ],
   "source": [
    "# Dataset shape\n",
    "print(f'dataset shape: {population.shape}')"
   ]
  },
  {
   "cell_type": "code",
   "execution_count": 6,
   "metadata": {
    "colab": {
     "base_uri": "https://localhost:8080/"
    },
    "executionInfo": {
     "elapsed": 437,
     "status": "ok",
     "timestamp": 1617815698567,
     "user": {
      "displayName": "Luiz Manke",
      "photoUrl": "https://lh3.googleusercontent.com/a-/AOh14Gi63RJ0atQDlt0M0pcVfF9vm6ioUk7xQmcrN9Ie2ks=s64",
      "userId": "12468682967220562450"
     },
     "user_tz": 180
    },
    "id": "2wJXiyLHUn6q",
    "outputId": "f400b720-6eb7-4754-8be4-c3169fc7bdfc"
   },
   "outputs": [
    {
     "data": {
      "text/plain": [
       "name                 int64\n",
       "age                float64\n",
       "marital_status      object\n",
       "n_children         float64\n",
       "study              float64\n",
       "work               float64\n",
       "play_sports        float64\n",
       "transportation      object\n",
       "body_mass_index    float64\n",
       "dtype: object"
      ]
     },
     "execution_count": 6,
     "metadata": {},
     "output_type": "execute_result"
    }
   ],
   "source": [
    "# Features and types\n",
    "population.dtypes"
   ]
  },
  {
   "cell_type": "code",
   "execution_count": 7,
   "metadata": {
    "colab": {
     "base_uri": "https://localhost:8080/"
    },
    "executionInfo": {
     "elapsed": 783,
     "status": "ok",
     "timestamp": 1617815699981,
     "user": {
      "displayName": "Luiz Manke",
      "photoUrl": "https://lh3.googleusercontent.com/a-/AOh14Gi63RJ0atQDlt0M0pcVfF9vm6ioUk7xQmcrN9Ie2ks=s64",
      "userId": "12468682967220562450"
     },
     "user_tz": 180
    },
    "id": "Zn4n431fUnzg",
    "outputId": "2970cc4f-8634-4e69-b978-5ab46843c43e"
   },
   "outputs": [
    {
     "name": "stdout",
     "output_type": "stream",
     "text": [
      "number of missing values: 527387\n"
     ]
    }
   ],
   "source": [
    "# Check for missing or null values in order_products\n",
    "print(f'number of missing values: {population.isna().sum().sum()}')"
   ]
  },
  {
   "cell_type": "code",
   "execution_count": 8,
   "metadata": {
    "colab": {
     "base_uri": "https://localhost:8080/"
    },
    "executionInfo": {
     "elapsed": 929,
     "status": "ok",
     "timestamp": 1617815701773,
     "user": {
      "displayName": "Luiz Manke",
      "photoUrl": "https://lh3.googleusercontent.com/a-/AOh14Gi63RJ0atQDlt0M0pcVfF9vm6ioUk7xQmcrN9Ie2ks=s64",
      "userId": "12468682967220562450"
     },
     "user_tz": 180
    },
    "id": "LMwiW-V1UnqD",
    "outputId": "27b0260f-8808-4d24-f7eb-5dab567433df"
   },
   "outputs": [
    {
     "data": {
      "text/plain": [
       "name                    0\n",
       "age                 95937\n",
       "marital_status      50073\n",
       "n_children          28867\n",
       "study               40130\n",
       "work                 6353\n",
       "play_sports        149124\n",
       "transportation      43033\n",
       "body_mass_index    113870\n",
       "dtype: int64"
      ]
     },
     "execution_count": 8,
     "metadata": {},
     "output_type": "execute_result"
    }
   ],
   "source": [
    "# Locating the missing values\n",
    "population.isna().sum()"
   ]
  },
  {
   "cell_type": "code",
   "execution_count": 9,
   "metadata": {
    "colab": {
     "base_uri": "https://localhost:8080/",
     "height": 317
    },
    "executionInfo": {
     "elapsed": 720,
     "status": "ok",
     "timestamp": 1617815703355,
     "user": {
      "displayName": "Luiz Manke",
      "photoUrl": "https://lh3.googleusercontent.com/a-/AOh14Gi63RJ0atQDlt0M0pcVfF9vm6ioUk7xQmcrN9Ie2ks=s64",
      "userId": "12468682967220562450"
     },
     "user_tz": 180
    },
    "id": "TmHLaYJrUvqD",
    "outputId": "51ca5af6-817c-4e18-d08e-ed6eccdde102"
   },
   "outputs": [
    {
     "data": {
      "text/html": [
       "<div>\n",
       "<style scoped>\n",
       "    .dataframe tbody tr th:only-of-type {\n",
       "        vertical-align: middle;\n",
       "    }\n",
       "\n",
       "    .dataframe tbody tr th {\n",
       "        vertical-align: top;\n",
       "    }\n",
       "\n",
       "    .dataframe thead th {\n",
       "        text-align: right;\n",
       "    }\n",
       "</style>\n",
       "<table border=\"1\" class=\"dataframe\">\n",
       "  <thead>\n",
       "    <tr style=\"text-align: right;\">\n",
       "      <th></th>\n",
       "      <th>name</th>\n",
       "      <th>age</th>\n",
       "      <th>n_children</th>\n",
       "      <th>study</th>\n",
       "      <th>work</th>\n",
       "      <th>play_sports</th>\n",
       "      <th>body_mass_index</th>\n",
       "    </tr>\n",
       "  </thead>\n",
       "  <tbody>\n",
       "    <tr>\n",
       "      <th>count</th>\n",
       "      <td>1000000.000000</td>\n",
       "      <td>904063.000000</td>\n",
       "      <td>971133.000000</td>\n",
       "      <td>959870.000000</td>\n",
       "      <td>993647.000000</td>\n",
       "      <td>850876.000000</td>\n",
       "      <td>8.861300e+05</td>\n",
       "    </tr>\n",
       "    <tr>\n",
       "      <th>mean</th>\n",
       "      <td>500000.500000</td>\n",
       "      <td>30.008431</td>\n",
       "      <td>0.928406</td>\n",
       "      <td>0.442588</td>\n",
       "      <td>0.556739</td>\n",
       "      <td>0.599823</td>\n",
       "      <td>2.089921e+14</td>\n",
       "    </tr>\n",
       "    <tr>\n",
       "      <th>std</th>\n",
       "      <td>288675.278932</td>\n",
       "      <td>10.951566</td>\n",
       "      <td>0.997289</td>\n",
       "      <td>0.496693</td>\n",
       "      <td>0.496771</td>\n",
       "      <td>0.489934</td>\n",
       "      <td>1.051577e+14</td>\n",
       "    </tr>\n",
       "    <tr>\n",
       "      <th>min</th>\n",
       "      <td>1.000000</td>\n",
       "      <td>0.000000</td>\n",
       "      <td>0.000000</td>\n",
       "      <td>0.000000</td>\n",
       "      <td>0.000000</td>\n",
       "      <td>0.000000</td>\n",
       "      <td>1.371942e+09</td>\n",
       "    </tr>\n",
       "    <tr>\n",
       "      <th>25%</th>\n",
       "      <td>250000.750000</td>\n",
       "      <td>22.000000</td>\n",
       "      <td>0.000000</td>\n",
       "      <td>0.000000</td>\n",
       "      <td>0.000000</td>\n",
       "      <td>0.000000</td>\n",
       "      <td>1.604842e+14</td>\n",
       "    </tr>\n",
       "    <tr>\n",
       "      <th>50%</th>\n",
       "      <td>500000.500000</td>\n",
       "      <td>29.000000</td>\n",
       "      <td>1.000000</td>\n",
       "      <td>0.000000</td>\n",
       "      <td>1.000000</td>\n",
       "      <td>1.000000</td>\n",
       "      <td>2.063203e+14</td>\n",
       "    </tr>\n",
       "    <tr>\n",
       "      <th>75%</th>\n",
       "      <td>750000.250000</td>\n",
       "      <td>37.000000</td>\n",
       "      <td>1.000000</td>\n",
       "      <td>1.000000</td>\n",
       "      <td>1.000000</td>\n",
       "      <td>1.000000</td>\n",
       "      <td>2.584227e+14</td>\n",
       "    </tr>\n",
       "    <tr>\n",
       "      <th>max</th>\n",
       "      <td>1000000.000000</td>\n",
       "      <td>124.000000</td>\n",
       "      <td>9.000000</td>\n",
       "      <td>1.000000</td>\n",
       "      <td>1.000000</td>\n",
       "      <td>1.000000</td>\n",
       "      <td>9.999966e+14</td>\n",
       "    </tr>\n",
       "  </tbody>\n",
       "</table>\n",
       "</div>"
      ],
      "text/plain": [
       "                 name            age     n_children          study  \\\n",
       "count  1000000.000000  904063.000000  971133.000000  959870.000000   \n",
       "mean    500000.500000      30.008431       0.928406       0.442588   \n",
       "std     288675.278932      10.951566       0.997289       0.496693   \n",
       "min          1.000000       0.000000       0.000000       0.000000   \n",
       "25%     250000.750000      22.000000       0.000000       0.000000   \n",
       "50%     500000.500000      29.000000       1.000000       0.000000   \n",
       "75%     750000.250000      37.000000       1.000000       1.000000   \n",
       "max    1000000.000000     124.000000       9.000000       1.000000   \n",
       "\n",
       "                work    play_sports  body_mass_index  \n",
       "count  993647.000000  850876.000000     8.861300e+05  \n",
       "mean        0.556739       0.599823     2.089921e+14  \n",
       "std         0.496771       0.489934     1.051577e+14  \n",
       "min         0.000000       0.000000     1.371942e+09  \n",
       "25%         0.000000       0.000000     1.604842e+14  \n",
       "50%         1.000000       1.000000     2.063203e+14  \n",
       "75%         1.000000       1.000000     2.584227e+14  \n",
       "max         1.000000       1.000000     9.999966e+14  "
      ]
     },
     "execution_count": 9,
     "metadata": {},
     "output_type": "execute_result"
    }
   ],
   "source": [
    "# Dataset statistics\n",
    "population.describe()"
   ]
  },
  {
   "cell_type": "code",
   "execution_count": 10,
   "metadata": {
    "colab": {
     "base_uri": "https://localhost:8080/"
    },
    "executionInfo": {
     "elapsed": 949,
     "status": "ok",
     "timestamp": 1617815706558,
     "user": {
      "displayName": "Luiz Manke",
      "photoUrl": "https://lh3.googleusercontent.com/a-/AOh14Gi63RJ0atQDlt0M0pcVfF9vm6ioUk7xQmcrN9Ie2ks=s64",
      "userId": "12468682967220562450"
     },
     "user_tz": 180
    },
    "id": "nLiVGN2LUvkE",
    "outputId": "19ee23e7-7bdc-4aee-80b7-379d834720c6"
   },
   "outputs": [
    {
     "data": {
      "text/plain": [
       "name               1000000\n",
       "age                    105\n",
       "marital_status           4\n",
       "n_children              10\n",
       "study                    2\n",
       "work                     2\n",
       "play_sports              2\n",
       "transportation           3\n",
       "body_mass_index     886130\n",
       "dtype: int64"
      ]
     },
     "execution_count": 10,
     "metadata": {},
     "output_type": "execute_result"
    }
   ],
   "source": [
    "# Number of unique values\n",
    "population.nunique()"
   ]
  },
  {
   "cell_type": "code",
   "execution_count": 11,
   "metadata": {
    "colab": {
     "base_uri": "https://localhost:8080/",
     "height": 365
    },
    "executionInfo": {
     "elapsed": 1196,
     "status": "ok",
     "timestamp": 1617815708626,
     "user": {
      "displayName": "Luiz Manke",
      "photoUrl": "https://lh3.googleusercontent.com/a-/AOh14Gi63RJ0atQDlt0M0pcVfF9vm6ioUk7xQmcrN9Ie2ks=s64",
      "userId": "12468682967220562450"
     },
     "user_tz": 180
    },
    "id": "nSgMIQC6UvdL",
    "outputId": "51db01e9-68dd-4996-8c2b-91bdf3ecca8e"
   },
   "outputs": [
    {
     "data": {
      "image/png": "[encoded data removed]",
      "text/plain": [
       "<Figure size 1152x432 with 2 Axes>"
      ]
     },
     "metadata": {
      "needs_background": "light"
     },
     "output_type": "display_data"
    }
   ],
   "source": [
    "# Numerical distributions\n",
    "_, ax = plt.subplots(nrows=1, ncols=2, figsize=(16, 6))\n",
    "\n",
    "population.hist('age', bins=30, ax=ax[0])\n",
    "ax[0].set_xlabel('Age', size=16)\n",
    "ax[0].set_ylabel('Number of People', size=16)\n",
    "ax[0].set_title('Age Distribution', size=16)\n",
    "\n",
    "population.hist('body_mass_index', bins=30, ax=ax[1])\n",
    "ax[1].set_xlabel('Body Mass Index', size=16)\n",
    "ax[1].set_ylabel('Number of People', size=16)\n",
    "ax[1].set_title('Body Mass Index Distribution', size=16)\n",
    "\n",
    "plt.show()"
   ]
  },
  {
   "cell_type": "code",
   "execution_count": 12,
   "metadata": {
    "colab": {
     "base_uri": "https://localhost:8080/",
     "height": 637
    },
    "executionInfo": {
     "elapsed": 2945,
     "status": "ok",
     "timestamp": 1617815713186,
     "user": {
      "displayName": "Luiz Manke",
      "photoUrl": "https://lh3.googleusercontent.com/a-/AOh14Gi63RJ0atQDlt0M0pcVfF9vm6ioUk7xQmcrN9Ie2ks=s64",
      "userId": "12468682967220562450"
     },
     "user_tz": 180
    },
    "id": "jJxKrlK8UvV2",
    "outputId": "149d43b6-d9c1-4575-efac-8e106c7d0693"
   },
   "outputs": [
    {
     "data": {
      "image/png": "[encoded data removed]",
      "text/plain": [
       "<Figure size 1152x864 with 6 Axes>"
      ]
     },
     "metadata": {
      "needs_background": "light"
     },
     "output_type": "display_data"
    }
   ],
   "source": [
    "# Categorical distributions\n",
    "_, ax = plt.subplots(nrows=3, ncols=2, figsize=(16, 12))\n",
    "\n",
    "sns.countplot(x='marital_status', data=population, ax=ax[0, 0])\n",
    "sns.countplot(x='n_children', data=population, ax=ax[0, 1])\n",
    "sns.countplot(x='study', data=population, ax=ax[1, 0])\n",
    "sns.countplot(x='work', data=population, ax=ax[1, 1])\n",
    "sns.countplot(x='play_sports', data=population, ax=ax[2, 0])\n",
    "sns.countplot(x='transportation', data=population, ax=ax[2, 1])\n",
    "\n",
    "plt.show()"
   ]
  },
  {
   "cell_type": "markdown",
   "metadata": {
    "id": "WiU_cbf6U7md"
   },
   "source": [
    "**Observations:**\n",
    "\n",
    "- *name* is the ID of the person - only useful to merge datasets and can be dropped\n",
    "- there's a lot of people in this dataset, let's see how many of them are actualy used in the next dataset\n",
    "- there's a lot of missing value as well (let's see if we drop or replace them)\n",
    "- *body_mass_index* seems to have unusual values, which typically ranges from 15 to 35.\n",
    "- *marital_status* and *transportation* are categorical feature that need to be converted\n",
    "- there are some outliers in *age*, *n_children* and *body_mass_index* (we can drop them or use a more rubust model)\n",
    "- most of the people use public transportation, while just a few use taxi"
   ]
  },
  {
   "cell_type": "markdown",
   "metadata": {
    "id": "QpGgaLD0XPvh"
   },
   "source": [
    "## 2. Connections\n",
    "\n",
    "Next we have a dataset containing a list of people connections and its virus transmission rate."
   ]
  },
  {
   "cell_type": "code",
   "execution_count": 13,
   "metadata": {
    "colab": {
     "base_uri": "https://localhost:8080/",
     "height": 204
    },
    "executionInfo": {
     "elapsed": 58754,
     "status": "ok",
     "timestamp": 1617815835248,
     "user": {
      "displayName": "Luiz Manke",
      "photoUrl": "https://lh3.googleusercontent.com/a-/AOh14Gi63RJ0atQDlt0M0pcVfF9vm6ioUk7xQmcrN9Ie2ks=s64",
      "userId": "12468682967220562450"
     },
     "user_tz": 180
    },
    "id": "B5Q3q7DIVaCD",
    "outputId": "4301f6f9-5b5a-4cc9-d484-d05b24fb6e82"
   },
   "outputs": [
    {
     "data": {
      "text/html": [
       "<div>\n",
       "<style scoped>\n",
       "    .dataframe tbody tr th:only-of-type {\n",
       "        vertical-align: middle;\n",
       "    }\n",
       "\n",
       "    .dataframe tbody tr th {\n",
       "        vertical-align: top;\n",
       "    }\n",
       "\n",
       "    .dataframe thead th {\n",
       "        text-align: right;\n",
       "    }\n",
       "</style>\n",
       "<table border=\"1\" class=\"dataframe\">\n",
       "  <thead>\n",
       "    <tr style=\"text-align: right;\">\n",
       "      <th></th>\n",
       "      <th>infecting</th>\n",
       "      <th>infected</th>\n",
       "      <th>degree</th>\n",
       "      <th>proximity</th>\n",
       "      <th>transmission_rate</th>\n",
       "    </tr>\n",
       "  </thead>\n",
       "  <tbody>\n",
       "    <tr>\n",
       "      <th>0</th>\n",
       "      <td>1</td>\n",
       "      <td>2</td>\n",
       "      <td>work</td>\n",
       "      <td>frequent_visit</td>\n",
       "      <td>0.589462</td>\n",
       "    </tr>\n",
       "    <tr>\n",
       "      <th>1</th>\n",
       "      <td>1</td>\n",
       "      <td>3</td>\n",
       "      <td>work</td>\n",
       "      <td>rare_visit</td>\n",
       "      <td>0.708465</td>\n",
       "    </tr>\n",
       "    <tr>\n",
       "      <th>2</th>\n",
       "      <td>2</td>\n",
       "      <td>4</td>\n",
       "      <td>work</td>\n",
       "      <td>casual_visit</td>\n",
       "      <td>NaN</td>\n",
       "    </tr>\n",
       "    <tr>\n",
       "      <th>3</th>\n",
       "      <td>2</td>\n",
       "      <td>5</td>\n",
       "      <td>work</td>\n",
       "      <td>rare_visit</td>\n",
       "      <td>0.638842</td>\n",
       "    </tr>\n",
       "    <tr>\n",
       "      <th>4</th>\n",
       "      <td>3</td>\n",
       "      <td>6</td>\n",
       "      <td>friends</td>\n",
       "      <td>live_together</td>\n",
       "      <td>NaN</td>\n",
       "    </tr>\n",
       "  </tbody>\n",
       "</table>\n",
       "</div>"
      ],
      "text/plain": [
       "   infecting  infected   degree       proximity  transmission_rate\n",
       "0          1         2     work  frequent_visit           0.589462\n",
       "1          1         3     work      rare_visit           0.708465\n",
       "2          2         4     work    casual_visit                NaN\n",
       "3          2         5     work      rare_visit           0.638842\n",
       "4          3         6  friends   live_together                NaN"
      ]
     },
     "execution_count": 13,
     "metadata": {},
     "output_type": "execute_result"
    }
   ],
   "source": [
    "# Load the dataset\n",
    "connections = pd.read_excel(f'{DATASETS_PATH}/original/conexoes_espec.xlsx')\n",
    "\n",
    "# Translate columns to english\n",
    "connections = connections.rename(columns={\n",
    "    'V1': 'infecting',\n",
    "    'V2': 'infected',\n",
    "    'grau': 'degree',\n",
    "    'proximidade': 'proximity',\n",
    "    'prob_V1_V2': 'transmission_rate'\n",
    "})\n",
    "\n",
    "# Translate values to english\n",
    "connections = connections.replace({\n",
    "    'trabalho': 'work',\n",
    "    'amigos': 'friends',\n",
    "    'familia': 'family',\n",
    "    'visita_frequente': 'frequent_visit',\n",
    "    'visita_rara': 'rare_visit',\n",
    "    'visita_casual': 'casual_visit',\n",
    "    'mora_junto': 'live_together',\n",
    "})\n",
    "\n",
    "connections.head()"
   ]
  },
  {
   "cell_type": "code",
   "execution_count": 14,
   "metadata": {
    "executionInfo": {
     "elapsed": 3789,
     "status": "ok",
     "timestamp": 1617817414025,
     "user": {
      "displayName": "Luiz Manke",
      "photoUrl": "https://lh3.googleusercontent.com/a-/AOh14Gi63RJ0atQDlt0M0pcVfF9vm6ioUk7xQmcrN9Ie2ks=s64",
      "userId": "12468682967220562450"
     },
     "user_tz": 180
    },
    "id": "T9js_Fw0bj34"
   },
   "outputs": [],
   "source": [
    "# Save new dataset\n",
    "connections.to_csv(f'{DATASETS_PATH}/processed/conexoes_espec_eda.csv', index=False)"
   ]
  },
  {
   "cell_type": "code",
   "execution_count": 15,
   "metadata": {
    "colab": {
     "base_uri": "https://localhost:8080/"
    },
    "executionInfo": {
     "elapsed": 664,
     "status": "ok",
     "timestamp": 1617815847385,
     "user": {
      "displayName": "Luiz Manke",
      "photoUrl": "https://lh3.googleusercontent.com/a-/AOh14Gi63RJ0atQDlt0M0pcVfF9vm6ioUk7xQmcrN9Ie2ks=s64",
      "userId": "12468682967220562450"
     },
     "user_tz": 180
    },
    "id": "b4KzEGveVZ_p",
    "outputId": "776deb83-4c6c-4d58-b539-560d70cfc1b8"
   },
   "outputs": [
    {
     "name": "stdout",
     "output_type": "stream",
     "text": [
      "dataset shape: (999999, 5)\n"
     ]
    }
   ],
   "source": [
    "# Dataset shape\n",
    "print(f'dataset shape: {connections.shape}')"
   ]
  },
  {
   "cell_type": "code",
   "execution_count": 16,
   "metadata": {
    "colab": {
     "base_uri": "https://localhost:8080/"
    },
    "executionInfo": {
     "elapsed": 460,
     "status": "ok",
     "timestamp": 1617815847772,
     "user": {
      "displayName": "Luiz Manke",
      "photoUrl": "https://lh3.googleusercontent.com/a-/AOh14Gi63RJ0atQDlt0M0pcVfF9vm6ioUk7xQmcrN9Ie2ks=s64",
      "userId": "12468682967220562450"
     },
     "user_tz": 180
    },
    "id": "bV2U3GH0VZ8g",
    "outputId": "faff3949-d89b-4489-810b-d6ee8690cfbb"
   },
   "outputs": [
    {
     "data": {
      "text/plain": [
       "infecting              int64\n",
       "infected               int64\n",
       "degree                object\n",
       "proximity             object\n",
       "transmission_rate    float64\n",
       "dtype: object"
      ]
     },
     "execution_count": 16,
     "metadata": {},
     "output_type": "execute_result"
    }
   ],
   "source": [
    "# Features and types\n",
    "connections.dtypes"
   ]
  },
  {
   "cell_type": "code",
   "execution_count": 17,
   "metadata": {
    "colab": {
     "base_uri": "https://localhost:8080/"
    },
    "executionInfo": {
     "elapsed": 742,
     "status": "ok",
     "timestamp": 1617815848588,
     "user": {
      "displayName": "Luiz Manke",
      "photoUrl": "https://lh3.googleusercontent.com/a-/AOh14Gi63RJ0atQDlt0M0pcVfF9vm6ioUk7xQmcrN9Ie2ks=s64",
      "userId": "12468682967220562450"
     },
     "user_tz": 180
    },
    "id": "1msYLgx-VZ6J",
    "outputId": "34e921cb-ea8f-4c0c-d578-de5e05895a3f"
   },
   "outputs": [
    {
     "name": "stdout",
     "output_type": "stream",
     "text": [
      "number of missing values: 500000\n"
     ]
    }
   ],
   "source": [
    "# Check for missing or null values in order_products\n",
    "print(f'number of missing values: {connections.isna().sum().sum()}')"
   ]
  },
  {
   "cell_type": "code",
   "execution_count": 18,
   "metadata": {
    "colab": {
     "base_uri": "https://localhost:8080/"
    },
    "executionInfo": {
     "elapsed": 464,
     "status": "ok",
     "timestamp": 1617815848947,
     "user": {
      "displayName": "Luiz Manke",
      "photoUrl": "https://lh3.googleusercontent.com/a-/AOh14Gi63RJ0atQDlt0M0pcVfF9vm6ioUk7xQmcrN9Ie2ks=s64",
      "userId": "12468682967220562450"
     },
     "user_tz": 180
    },
    "id": "-ECdkDf7VZ22",
    "outputId": "64eaa517-ace3-4e98-851d-b1a73854d788"
   },
   "outputs": [
    {
     "data": {
      "text/plain": [
       "infecting                 0\n",
       "infected                  0\n",
       "degree                    0\n",
       "proximity                 0\n",
       "transmission_rate    500000\n",
       "dtype: int64"
      ]
     },
     "execution_count": 18,
     "metadata": {},
     "output_type": "execute_result"
    }
   ],
   "source": [
    "# Locating the missing values\n",
    "connections.isna().sum()"
   ]
  },
  {
   "cell_type": "code",
   "execution_count": 19,
   "metadata": {
    "colab": {
     "base_uri": "https://localhost:8080/",
     "height": 297
    },
    "executionInfo": {
     "elapsed": 688,
     "status": "ok",
     "timestamp": 1617815849912,
     "user": {
      "displayName": "Luiz Manke",
      "photoUrl": "https://lh3.googleusercontent.com/a-/AOh14Gi63RJ0atQDlt0M0pcVfF9vm6ioUk7xQmcrN9Ie2ks=s64",
      "userId": "12468682967220562450"
     },
     "user_tz": 180
    },
    "id": "KWz-bCn0VZzn",
    "outputId": "8b30e05e-ec0b-443c-fe32-f44c679743b0"
   },
   "outputs": [
    {
     "data": {
      "text/html": [
       "<div>\n",
       "<style scoped>\n",
       "    .dataframe tbody tr th:only-of-type {\n",
       "        vertical-align: middle;\n",
       "    }\n",
       "\n",
       "    .dataframe tbody tr th {\n",
       "        vertical-align: top;\n",
       "    }\n",
       "\n",
       "    .dataframe thead th {\n",
       "        text-align: right;\n",
       "    }\n",
       "</style>\n",
       "<table border=\"1\" class=\"dataframe\">\n",
       "  <thead>\n",
       "    <tr style=\"text-align: right;\">\n",
       "      <th></th>\n",
       "      <th>infecting</th>\n",
       "      <th>infected</th>\n",
       "      <th>transmission_rate</th>\n",
       "    </tr>\n",
       "  </thead>\n",
       "  <tbody>\n",
       "    <tr>\n",
       "      <th>count</th>\n",
       "      <td>999999.000000</td>\n",
       "      <td>999999.000000</td>\n",
       "      <td>499999.000000</td>\n",
       "    </tr>\n",
       "    <tr>\n",
       "      <th>mean</th>\n",
       "      <td>250000.250000</td>\n",
       "      <td>500001.000000</td>\n",
       "      <td>0.485162</td>\n",
       "    </tr>\n",
       "    <tr>\n",
       "      <th>std</th>\n",
       "      <td>144337.495129</td>\n",
       "      <td>288674.990257</td>\n",
       "      <td>0.173963</td>\n",
       "    </tr>\n",
       "    <tr>\n",
       "      <th>min</th>\n",
       "      <td>1.000000</td>\n",
       "      <td>2.000000</td>\n",
       "      <td>0.074462</td>\n",
       "    </tr>\n",
       "    <tr>\n",
       "      <th>25%</th>\n",
       "      <td>125000.500000</td>\n",
       "      <td>250001.500000</td>\n",
       "      <td>0.351677</td>\n",
       "    </tr>\n",
       "    <tr>\n",
       "      <th>50%</th>\n",
       "      <td>250000.000000</td>\n",
       "      <td>500001.000000</td>\n",
       "      <td>0.486413</td>\n",
       "    </tr>\n",
       "    <tr>\n",
       "      <th>75%</th>\n",
       "      <td>375000.000000</td>\n",
       "      <td>750000.500000</td>\n",
       "      <td>0.618210</td>\n",
       "    </tr>\n",
       "    <tr>\n",
       "      <th>max</th>\n",
       "      <td>500000.000000</td>\n",
       "      <td>1000000.000000</td>\n",
       "      <td>0.942245</td>\n",
       "    </tr>\n",
       "  </tbody>\n",
       "</table>\n",
       "</div>"
      ],
      "text/plain": [
       "           infecting        infected  transmission_rate\n",
       "count  999999.000000   999999.000000      499999.000000\n",
       "mean   250000.250000   500001.000000           0.485162\n",
       "std    144337.495129   288674.990257           0.173963\n",
       "min         1.000000        2.000000           0.074462\n",
       "25%    125000.500000   250001.500000           0.351677\n",
       "50%    250000.000000   500001.000000           0.486413\n",
       "75%    375000.000000   750000.500000           0.618210\n",
       "max    500000.000000  1000000.000000           0.942245"
      ]
     },
     "execution_count": 19,
     "metadata": {},
     "output_type": "execute_result"
    }
   ],
   "source": [
    "# Dataset statistics\n",
    "connections.describe()"
   ]
  },
  {
   "cell_type": "code",
   "execution_count": 20,
   "metadata": {
    "colab": {
     "base_uri": "https://localhost:8080/"
    },
    "executionInfo": {
     "elapsed": 713,
     "status": "ok",
     "timestamp": 1617815850941,
     "user": {
      "displayName": "Luiz Manke",
      "photoUrl": "https://lh3.googleusercontent.com/a-/AOh14Gi63RJ0atQDlt0M0pcVfF9vm6ioUk7xQmcrN9Ie2ks=s64",
      "userId": "12468682967220562450"
     },
     "user_tz": 180
    },
    "id": "kRXpfahCVZw5",
    "outputId": "05c28ee8-94dc-4a4a-e636-bd2eed9a7a0b"
   },
   "outputs": [
    {
     "data": {
      "text/plain": [
       "infecting            500000\n",
       "infected             999999\n",
       "degree                    3\n",
       "proximity                 4\n",
       "transmission_rate    499999\n",
       "dtype: int64"
      ]
     },
     "execution_count": 20,
     "metadata": {},
     "output_type": "execute_result"
    }
   ],
   "source": [
    "# Number of unique values\n",
    "connections.nunique()"
   ]
  },
  {
   "cell_type": "code",
   "execution_count": 21,
   "metadata": {
    "colab": {
     "base_uri": "https://localhost:8080/",
     "height": 367
    },
    "executionInfo": {
     "elapsed": 1156,
     "status": "ok",
     "timestamp": 1617815852764,
     "user": {
      "displayName": "Luiz Manke",
      "photoUrl": "https://lh3.googleusercontent.com/a-/AOh14Gi63RJ0atQDlt0M0pcVfF9vm6ioUk7xQmcrN9Ie2ks=s64",
      "userId": "12468682967220562450"
     },
     "user_tz": 180
    },
    "id": "KBo0BSH-VZqp",
    "outputId": "422c06ca-3e87-4d01-b54b-40fa1431a069"
   },
   "outputs": [
    {
     "data": {
      "image/png": "[encoded data removed]",
      "text/plain": [
       "<Figure size 1152x432 with 1 Axes>"
      ]
     },
     "metadata": {
      "needs_background": "light"
     },
     "output_type": "display_data"
    }
   ],
   "source": [
    "# Numerical distributions\n",
    "_, ax = plt.subplots(figsize=(16, 6))\n",
    "connections.hist('transmission_rate', bins=30, ax=ax)\n",
    "ax.set_xlabel('Transmission Rate', size=16)\n",
    "ax.set_ylabel('Number of People', size=16)\n",
    "ax.set_title('Transmission Rate Distribution', size=16)\n",
    "plt.show()"
   ]
  },
  {
   "cell_type": "code",
   "execution_count": 22,
   "metadata": {
    "colab": {
     "base_uri": "https://localhost:8080/",
     "height": 351
    },
    "executionInfo": {
     "elapsed": 2029,
     "status": "ok",
     "timestamp": 1617815855920,
     "user": {
      "displayName": "Luiz Manke",
      "photoUrl": "https://lh3.googleusercontent.com/a-/AOh14Gi63RJ0atQDlt0M0pcVfF9vm6ioUk7xQmcrN9Ie2ks=s64",
      "userId": "12468682967220562450"
     },
     "user_tz": 180
    },
    "id": "XbeYTVh3UvPk",
    "outputId": "79637b31-aa03-4fc2-f00e-b37aca39ae04"
   },
   "outputs": [
    {
     "data": {
      "image/png": "[encoded data removed]",
      "text/plain": [
       "<Figure size 1152x432 with 2 Axes>"
      ]
     },
     "metadata": {
      "needs_background": "light"
     },
     "output_type": "display_data"
    }
   ],
   "source": [
    "# Categorical distributions\n",
    "_, ax = plt.subplots(nrows=1, ncols=2, figsize=(16, 6))\n",
    "sns.countplot(x='degree', data=connections, ax=ax[0])\n",
    "sns.countplot(x='proximity', data=connections, ax=ax[1])\n",
    "plt.show()"
   ]
  },
  {
   "cell_type": "markdown",
   "metadata": {
    "id": "4mgZS_RoVwRy"
   },
   "source": [
    "**Observations:**\n",
    "\n",
    "- *infecting* and *infected* will only be used to merge datasets\n",
    "- here we have another dataset with lot of samples and we'll probably use just a subsample of it to evaluate the machine learning models\n",
    "- half of the dataset does not contain the target variable *transmission_rate* and will be put aside as the submission file\n",
    "- most of the people make *rare_visits*, while few people *live_together*"
   ]
  }
 ],
 "metadata": {
  "colab": {
   "authorship_tag": "ABX9TyPs3OCDykt+zVBjnCgaMEgC",
   "collapsed_sections": [],
   "name": "1_eda.ipynb",
   "provenance": [],
   "toc_visible": true
  },
  "kernelspec": {
   "display_name": "Python 3",
   "language": "python",
   "name": "python3"
  },
  "language_info": {
   "codemirror_mode": {
    "name": "ipython",
    "version": 3
   },
   "file_extension": ".py",
   "mimetype": "text/x-python",
   "name": "python",
   "nbconvert_exporter": "python",
   "pygments_lexer": "ipython3",
   "version": "3.8.2"
  }
 },
 "nbformat": 4,
 "nbformat_minor": 4
}
